{
 "cells": [
  {
   "cell_type": "code",
   "execution_count": 1,
   "id": "cfb169ac-d6e7-4132-9ffc-a14edf8a918f",
   "metadata": {},
   "outputs": [],
   "source": [
    "import curies\n",
    "import pandas as pd\n",
    "import itertools as itt\n",
    "import pystow"
   ]
  },
  {
   "cell_type": "code",
   "execution_count": 2,
   "id": "3091dc17-b60d-4cc1-94a9-c523b3cce4e9",
   "metadata": {},
   "outputs": [
    {
     "name": "stdout",
     "output_type": "stream",
     "text": [
      "CPU times: user 30 ms, sys: 4.59 ms, total: 34.6 ms\n",
      "Wall time: 646 ms\n"
     ]
    }
   ],
   "source": [
    "%%time\n",
    "obo_converter = curies.get_obo_converter()"
   ]
  },
  {
   "cell_type": "code",
   "execution_count": 3,
   "id": "d4e138e4-31f5-4c0d-ba0f-9849586af00c",
   "metadata": {},
   "outputs": [
    {
     "name": "stdout",
     "output_type": "stream",
     "text": [
      "CPU times: user 7.08 s, sys: 69.5 ms, total: 7.15 s\n",
      "Wall time: 7.22 s\n"
     ]
    }
   ],
   "source": [
    "%%time\n",
    "bioregistry_converter = curies.get_bioregistry_converter()"
   ]
  },
  {
   "cell_type": "markdown",
   "id": "f94b0791-ab75-481b-9e83-8990f0fbc4f1",
   "metadata": {},
   "source": [
    "# Disease Ontology SSSOM Demo"
   ]
  },
  {
   "cell_type": "code",
   "execution_count": 4,
   "id": "5301bafc-15eb-45bc-adf6-6281d6da1b3e",
   "metadata": {},
   "outputs": [
    {
     "data": {
      "text/plain": [
       "array([['DOID:8717', 'oboInOwl:hasDbXref', 'NCI:C50706'],\n",
       "       ['DOID:8717', 'oboInOwl:hasDbXref', 'MESH:D003668'],\n",
       "       ['DOID:8717', 'oboInOwl:hasDbXref', 'ICD9CM:707.0'],\n",
       "       ['DOID:8717', 'oboInOwl:hasDbXref',\n",
       "        'SNOMEDCT_US_2021_09_01:28103007'],\n",
       "       ['DOID:8717', 'oboInOwl:hasDbXref', 'UMLS_CUI:C0011127']],\n",
       "      dtype=object)"
      ]
     },
     "execution_count": 4,
     "metadata": {},
     "output_type": "execute_result"
    }
   ],
   "source": [
    "commit = \"faca4fc335f9a61902b9c47a1facd52a0d3d2f8b\"\n",
    "url = f\"https://raw.githubusercontent.com/mapping-commons/disease-mappings/{commit}/mappings/doid.sssom.tsv\"\n",
    "df = pystow.ensure_csv(\"tmp\", url=url, read_csv_kwargs=dict(comment=\"#\"))\n",
    "df.head()[[\"subject_id\", \"predicate_id\", \"object_id\"]].values"
   ]
  },
  {
   "cell_type": "code",
   "execution_count": 5,
   "id": "53ae14ad-1665-472f-a849-f6e2fa95fde4",
   "metadata": {},
   "outputs": [
    {
     "data": {
      "text/markdown": [
       "## Summary\n",
       "\n",
       "Standardization was not necessary for 2 (0.0%), resulted in 0 updates (0.0%), and 34,522 failures (100.0%)  in column `object_id`. Here's a breakdown of the prefixes that weren't possible to standardize:\n",
       "\n",
       "| prefix                 |   count | examples                                                                                                                                                                |\n",
       "|:-----------------------|--------:|:------------------------------------------------------------------------------------------------------------------------------------------------------------------------|\n",
       "| EFO                    |     131 | EFO:0000195, EFO:0000612, EFO:0000729, EFO:0003914, EFO:0004222                                                                                                         |\n",
       "| GARD                   |    2030 | GARD:1224, GARD:4771, GARD:6464, GARD:7179, GARD:7475                                                                                                                   |\n",
       "| ICD10CM                |    3666 | ICD10CM:E75.0, ICD10CM:H35.42, ICD10CM:I75, ICD10CM:K59.39, ICD10CM:Q38.1                                                                                               |\n",
       "| ICD9CM                 |    2266 | ICD9CM:335.22, ICD9CM:368.51, ICD9CM:375.15, ICD9CM:618.8, ICD9CM:622.2                                                                                                 |\n",
       "| ICDO                   |     361 | ICDO:8050/3, ICDO:8051/3, ICDO:8290/0, ICDO:8470/3, ICDO:8920/3                                                                                                         |\n",
       "| KEGG                   |      41 | KEGG:05210, KEGG:05219, KEGG:05221, KEGG:05310, KEGG:H02296                                                                                                             |\n",
       "| MEDDRA                 |      41 | MEDDRA:10001229, MEDDRA:10036794, MEDDRA:10066387, MEDDRA:10068842                                                                                                      |\n",
       "| MESH                   |    3847 | MESH:C562745, MESH:D003882, MESH:D008288, MESH:D009072, MESH:D015270                                                                                                    |\n",
       "| NCI                    |    4788 | NCI:C27472, NCI:C3406, NCI:C39860, NCI:C4296, NCI:C84886                                                                                                                |\n",
       "| OMIM                   |    5539 | OMIM:154800, OMIM:229050, OMIM:255300, OMIM:614465, OMIM:615725                                                                                                         |\n",
       "| ORDO                   |    2023 | ORDO:2554, ORDO:295195, ORDO:397593, ORDO:733, ORDO:79257                                                                                                               |\n",
       "| SNOMEDCT_US_2020_03_01 |       6 | SNOMEDCT_US_2020_03_01:236818008, SNOMEDCT_US_2020_03_01:254828009, SNOMEDCT_US_2020_03_01:52564001                                                                     |\n",
       "| SNOMEDCT_US_2020_09_01 |       1 | SNOMEDCT_US_2020_09_01:1112003                                                                                                                                          |\n",
       "| SNOMEDCT_US_2021_07_31 |      10 | SNOMEDCT_US_2021_07_31:205329008, SNOMEDCT_US_2021_07_31:268180007, SNOMEDCT_US_2021_07_31:75931002, SNOMEDCT_US_2021_07_31:785879009, SNOMEDCT_US_2021_07_31:86249007  |\n",
       "| SNOMEDCT_US_2021_09_01 |    5088 | SNOMEDCT_US_2021_09_01:128925001, SNOMEDCT_US_2021_09_01:254916002, SNOMEDCT_US_2021_09_01:267572005, SNOMEDCT_US_2021_09_01:389261002, SNOMEDCT_US_2021_09_01:94069006 |\n",
       "| UMLS_CUI               |    6890 | UMLS_CUI:C0085574, UMLS_CUI:C0153212, UMLS_CUI:C0282492, UMLS_CUI:C1332356, UMLS_CUI:C1838329                                                                           |\n",
       "\n",
       "## Suggestions\n",
       "\n",
       "- NCI appears in Bioregistry under [`ncit`](https://bioregistry.io/ncit). Consider chaining your converter with the Bioregistry using [`curies.chain()`](https://curies.readthedocs.io/en/latest/api/curies.chain.html).\n",
       "- MESH appears in Bioregistry under [`mesh`](https://bioregistry.io/mesh). Consider chaining your converter with the Bioregistry using [`curies.chain()`](https://curies.readthedocs.io/en/latest/api/curies.chain.html).\n",
       "- ICD9CM appears in Bioregistry under [`icd9cm`](https://bioregistry.io/icd9cm). Consider chaining your converter with the Bioregistry using [`curies.chain()`](https://curies.readthedocs.io/en/latest/api/curies.chain.html).\n",
       "- SNOMEDCT_US_2021_09_01 appears in Bioregistry under [`snomedct`](https://bioregistry.io/snomedct). Consider chaining your converter with the Bioregistry using [`curies.chain()`](https://curies.readthedocs.io/en/latest/api/curies.chain.html).\n",
       "- UMLS_CUI appears in Bioregistry under [`umls`](https://bioregistry.io/umls). Consider chaining your converter with the Bioregistry using [`curies.chain()`](https://curies.readthedocs.io/en/latest/api/curies.chain.html).\n",
       "- ICD10CM appears in Bioregistry under [`icd10cm`](https://bioregistry.io/icd10cm). Consider chaining your converter with the Bioregistry using [`curies.chain()`](https://curies.readthedocs.io/en/latest/api/curies.chain.html).\n",
       "- ORDO appears in Bioregistry under [`orphanet.ordo`](https://bioregistry.io/orphanet.ordo). Consider chaining your converter with the Bioregistry using [`curies.chain()`](https://curies.readthedocs.io/en/latest/api/curies.chain.html).\n",
       "- GARD appears in Bioregistry under [`gard`](https://bioregistry.io/gard). Consider chaining your converter with the Bioregistry using [`curies.chain()`](https://curies.readthedocs.io/en/latest/api/curies.chain.html).\n",
       "- OMIM appears in Bioregistry under [`omim`](https://bioregistry.io/omim). Consider chaining your converter with the Bioregistry using [`curies.chain()`](https://curies.readthedocs.io/en/latest/api/curies.chain.html).\n",
       "- ICDO appears in Bioregistry under [`icdo`](https://bioregistry.io/icdo). Consider chaining your converter with the Bioregistry using [`curies.chain()`](https://curies.readthedocs.io/en/latest/api/curies.chain.html).\n",
       "- EFO appears in Bioregistry under [`efo`](https://bioregistry.io/efo). Consider chaining your converter with the Bioregistry using [`curies.chain()`](https://curies.readthedocs.io/en/latest/api/curies.chain.html).\n",
       "- MEDDRA appears in Bioregistry under [`meddra`](https://bioregistry.io/meddra). Consider chaining your converter with the Bioregistry using [`curies.chain()`](https://curies.readthedocs.io/en/latest/api/curies.chain.html).\n",
       "- KEGG appears in Bioregistry under [`kegg`](https://bioregistry.io/kegg). Consider chaining your converter with the Bioregistry using [`curies.chain()`](https://curies.readthedocs.io/en/latest/api/curies.chain.html).\n",
       "- SNOMEDCT_US_2021_07_31 appears in Bioregistry under [`snomedct`](https://bioregistry.io/snomedct). Consider chaining your converter with the Bioregistry using [`curies.chain()`](https://curies.readthedocs.io/en/latest/api/curies.chain.html).\n",
       "- SNOMEDCT_US_2020_03_01 appears in Bioregistry under [`snomedct`](https://bioregistry.io/snomedct). Consider chaining your converter with the Bioregistry using [`curies.chain()`](https://curies.readthedocs.io/en/latest/api/curies.chain.html).\n",
       "- SNOMEDCT_US_2020_09_01 appears in Bioregistry under [`snomedct`](https://bioregistry.io/snomedct). Consider chaining your converter with the Bioregistry using [`curies.chain()`](https://curies.readthedocs.io/en/latest/api/curies.chain.html).\n"
      ],
      "text/plain": [
       "Report(converter=<curies.api.Converter object at 0x16b80f890>, column='object_id', nones=0, stayed=2, updated=0)"
      ]
     },
     "execution_count": 5,
     "metadata": {},
     "output_type": "execute_result"
    }
   ],
   "source": [
    "obo_converter.pd_standardize_curie(df.copy(), column=\"object_id\")"
   ]
  },
  {
   "cell_type": "code",
   "execution_count": 6,
   "id": "245227da-d4e2-4ede-9844-bd448ef0e54b",
   "metadata": {},
   "outputs": [
    {
     "data": {
      "text/plain": [
       "<curies.api.Converter at 0x16b7d8a90>"
      ]
     },
     "execution_count": 6,
     "metadata": {},
     "output_type": "execute_result"
    }
   ],
   "source": [
    "bioregistry_converter"
   ]
  },
  {
   "cell_type": "code",
   "execution_count": 7,
   "id": "4e028a67-634a-4b2e-ad16-aca23fc47e28",
   "metadata": {},
   "outputs": [
    {
     "data": {
      "text/markdown": [
       "Standardization was successfully applied to all 36,730 CURIEs in column `object_id`."
      ],
      "text/plain": [
       "Report(converter=<curies.api.Converter object at 0x16b7d8a90>, column='object_id', nones=0, stayed=0, updated=36730)"
      ]
     },
     "execution_count": 7,
     "metadata": {},
     "output_type": "execute_result"
    }
   ],
   "source": [
    "bioregistry_converter.pd_standardize_curie(df.copy(), column=\"object_id\")"
   ]
  },
  {
   "cell_type": "markdown",
   "id": "4fa4f1f8-e2cc-4230-8a36-2f8eb9d8b93f",
   "metadata": {},
   "source": [
    "# Mixed CURIEs and URIs demo"
   ]
  },
  {
   "cell_type": "code",
   "execution_count": 8,
   "id": "7239d782-e952-40fc-9a0a-5ae0753fdb22",
   "metadata": {},
   "outputs": [
    {
     "data": {
      "text/markdown": [
       "## Summary\n",
       "\n",
       "Standardization was not necessary for 1 (20.0%), resulted in 1 updates (20.0%), and 2 failures (40.0%)  in column `0`. Here's a breakdown of the prefixes that weren't possible to standardize:\n",
       "\n",
       "| prefix      |   count | examples                               |\n",
       "|:------------|--------:|:---------------------------------------|\n",
       "| http        |       1 | http://purl.obolibrary.org/obo/CHEBI_2 |\n",
       "| not_a_curie |       1 | not_a_curie                            |\n",
       "\n",
       "## Suggestions\n",
       "\n",
       "- http entries are not CURIEs, try and compressing your data first.\n",
       "- not_a_curie is not a valid CURIE\n"
      ],
      "text/plain": [
       "Report(converter=<curies.api.Converter object at 0x16b7d8a90>, column=0, nones=1, stayed=1, updated=1)"
      ]
     },
     "execution_count": 8,
     "metadata": {},
     "output_type": "execute_result"
    }
   ],
   "source": [
    "mixed_df = pd.DataFrame(\n",
    "    [\n",
    "        (\"chebi:1\",),\n",
    "        (\"http://purl.obolibrary.org/obo/CHEBI_2\",),\n",
    "        (\"CHEBI:3\",),\n",
    "        (\"not_a_curie\",),\n",
    "        (None,),\n",
    "    ]\n",
    ")\n",
    "bioregistry_converter.pd_standardize_curie(mixed_df, column=0)"
   ]
  }
 ],
 "metadata": {
  "kernelspec": {
   "display_name": "Python 3 (ipykernel)",
   "language": "python",
   "name": "python3"
  },
  "language_info": {
   "codemirror_mode": {
    "name": "ipython",
    "version": 3
   },
   "file_extension": ".py",
   "mimetype": "text/x-python",
   "name": "python",
   "nbconvert_exporter": "python",
   "pygments_lexer": "ipython3",
   "version": "3.11.4"
  }
 },
 "nbformat": 4,
 "nbformat_minor": 5
}
