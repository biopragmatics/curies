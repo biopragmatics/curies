{
 "cells": [
  {
   "cell_type": "code",
   "execution_count": 1,
   "id": "cfb169ac-d6e7-4132-9ffc-a14edf8a918f",
   "metadata": {},
   "outputs": [],
   "source": [
    "import curies\n",
    "import pandas as pd\n",
    "import itertools as itt\n",
    "import pystow"
   ]
  },
  {
   "cell_type": "code",
   "execution_count": 2,
   "id": "3091dc17-b60d-4cc1-94a9-c523b3cce4e9",
   "metadata": {},
   "outputs": [
    {
     "name": "stdout",
     "output_type": "stream",
     "text": [
      "CPU times: user 73.4 ms, sys: 3.43 ms, total: 76.9 ms\n",
      "Wall time: 333 ms\n"
     ]
    }
   ],
   "source": [
    "%%time\n",
    "obo_converter = curies.get_obo_converter()"
   ]
  },
  {
   "cell_type": "code",
   "execution_count": null,
   "id": "d4e138e4-31f5-4c0d-ba0f-9849586af00c",
   "metadata": {},
   "outputs": [],
   "source": [
    "%%time\n",
    "bioregistry_converter = curies.get_bioregistry_converter()"
   ]
  },
  {
   "cell_type": "code",
   "execution_count": null,
   "id": "5301bafc-15eb-45bc-adf6-6281d6da1b3e",
   "metadata": {},
   "outputs": [],
   "source": [
    "commit = \"faca4fc335f9a61902b9c47a1facd52a0d3d2f8b\"\n",
    "url = f\"https://raw.githubusercontent.com/mapping-commons/disease-mappings/{commit}/mappings/doid.sssom.tsv\"\n",
    "df = pystow.ensure_csv(\"tmp\", url=url, read_csv_kwargs=dict(comment='#'))\n",
    "df.head()[[\"subject_id\", \"predicate_id\", \"object_id\"]].values"
   ]
  },
  {
   "cell_type": "code",
   "execution_count": null,
   "id": "53ae14ad-1665-472f-a849-f6e2fa95fde4",
   "metadata": {},
   "outputs": [],
   "source": [
    "obo_converter.pd_standardize_curie(df.copy(), column=\"object_id\")"
   ]
  },
  {
   "cell_type": "code",
   "execution_count": null,
   "id": "4e028a67-634a-4b2e-ad16-aca23fc47e28",
   "metadata": {},
   "outputs": [],
   "source": [
    "bioregistry_converter.pd_standardize_curie(df.copy(), column=\"object_id\")"
   ]
  }
 ],
 "metadata": {
  "kernelspec": {
   "display_name": "Python 3 (ipykernel)",
   "language": "python",
   "name": "python3"
  },
  "language_info": {
   "codemirror_mode": {
    "name": "ipython",
    "version": 3
   },
   "file_extension": ".py",
   "mimetype": "text/x-python",
   "name": "python",
   "nbconvert_exporter": "python",
   "pygments_lexer": "ipython3",
   "version": "3.11.4"
  }
 },
 "nbformat": 4,
 "nbformat_minor": 5
}
